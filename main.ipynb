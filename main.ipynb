{
  "nbformat": 4,
  "nbformat_minor": 0,
  "metadata": {
    "colab": {
      "provenance": []
    },
    "kernelspec": {
      "name": "python3",
      "display_name": "Python 3"
    },
    "language_info": {
      "name": "python"
    }
  },
  "cells": [
    {
      "cell_type": "markdown",
      "source": [
        "Run this cell to open data if using Colab"
      ],
      "metadata": {
        "id": "30A-mQn82RkG"
      }
    },
    {
      "cell_type": "code",
      "execution_count": 10,
      "metadata": {
        "id": "2aTpADTg0jYa",
        "outputId": "52045eee-4e80-4c70-f84b-f690132ee03c",
        "colab": {
          "base_uri": "https://localhost:8080/"
        }
      },
      "outputs": [
        {
          "output_type": "stream",
          "name": "stdout",
          "text": [
            "Path to dataset files: /root/.cache/kagglehub/datasets/vincentv/qr-detection-yolo/versions/1\n",
            "Drive already mounted at /content/drive; to attempt to forcibly remount, call drive.mount(\"/content/drive\", force_remount=True).\n"
          ]
        },
        {
          "output_type": "execute_result",
          "data": {
            "text/plain": [
              "<_io.TextIOWrapper name='/content/drive/MyDrive/qr code detection.v2i.yolov8/test/images/0050027974_jpg.rf.269ad5f89a28942eb9ccf09507a77b22.jpg' mode='r' encoding='UTF-8'>"
            ]
          },
          "metadata": {},
          "execution_count": 10
        }
      ],
      "source": [
        "#Download Kaggle dataset (currently train dataset)\n",
        "import kagglehub\n",
        "\n",
        "# Download latest version\n",
        "train = kagglehub.dataset_download(\"vincentv/qr-detection-yolo\")\n",
        "\n",
        "print(\"Path to dataset files:\", train)\n",
        "\n",
        "\n",
        "#Open Roboflow dataset (currently test dataset)\n",
        "from google.colab import drive\n",
        "drive.mount('/content/drive')\n",
        "\n",
        "#Example of an image file being opened\n",
        "open('/content/drive/MyDrive/qr code detection.v2i.yolov8/test/images/0050027974_jpg.rf.269ad5f89a28942eb9ccf09507a77b22.jpg')"
      ]
    }
  ]
}