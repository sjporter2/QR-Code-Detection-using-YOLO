{
 "cells": [
  {
   "cell_type": "code",
   "execution_count": 1,
   "id": "6b048926",
   "metadata": {},
   "outputs": [],
   "source": [
    "# !pip install -r requirements.txt"
   ]
  },
  {
   "cell_type": "code",
   "execution_count": 2,
   "id": "abd73133",
   "metadata": {},
   "outputs": [],
   "source": [
    "import torch\n",
    "from torchvision.transforms.functional import to_pil_image\n",
    "from ultralytics import YOLO\n",
    "from os import path\n",
    "import numpy as np\n",
    "import cv2\n",
    "\n",
    "from IPython.display import Image # to display images in the notebook\n",
    "\n",
    "path_config_file = path.join('model_attempt.yaml')"
   ]
  },
  {
   "cell_type": "code",
   "execution_count": 3,
   "id": "8b4394d3",
   "metadata": {},
   "outputs": [],
   "source": [
    "model = YOLO(model='model_QR_detection.pt') # load in the finetuned model\n"
   ]
  },
  {
   "cell_type": "code",
   "execution_count": 4,
   "id": "8634b3c3",
   "metadata": {},
   "outputs": [],
   "source": [
    "def plot_bboxes(results):\n",
    "    img = results[0].orig_img # original image\n",
    "    names = results[0].names # class names dict\n",
    "    scores = results[0].boxes.conf.cpu().numpy() # probabilities\n",
    "    classes = results[0].boxes.cls.cpu().numpy() # predicted classes\n",
    "    boxes = results[0].boxes.xyxy.cpu().numpy().astype(np.int32) # bboxes\n",
    "    for score, cls, bbox in zip(scores, classes, boxes): # loop over all bboxes\n",
    "        class_label = names[cls] # class name\n",
    "        label = f\"{class_label} : {score:0.2f}\" # bbox label\n",
    "        lbl_margin = 3 #label margin\n",
    "        img = cv2.rectangle(img, (bbox[0], bbox[1]),\n",
    "                            (bbox[2], bbox[3]),\n",
    "                            color=(0, 0, 255),\n",
    "                            thickness=1)\n",
    "        label_size = cv2.getTextSize(label, # labelsize in pixels \n",
    "                                     fontFace=cv2.FONT_HERSHEY_SIMPLEX, \n",
    "                                     fontScale=1, thickness=1)\n",
    "        lbl_w, lbl_h = label_size[0] # label w and h\n",
    "        lbl_w += 2* lbl_margin # add margins on both sides\n",
    "        lbl_h += 2*lbl_margin\n",
    "        img = cv2.rectangle(img, (bbox[0], bbox[1]), # plot label background\n",
    "                             (bbox[0]+lbl_w, bbox[1]-lbl_h),\n",
    "                             color=(0, 0, 255), \n",
    "                             thickness=-1) # thickness=-1 means filled rectangle\n",
    "        cv2.putText(img, label, (bbox[0]+ lbl_margin, bbox[1]-lbl_margin), # write label to the image\n",
    "                    fontFace=cv2.FONT_HERSHEY_SIMPLEX,\n",
    "                    fontScale=1.0, color=(255, 255, 255 ),\n",
    "                    thickness=1)\n",
    "    return img"
   ]
  },
  {
   "cell_type": "code",
   "execution_count": 5,
   "id": "4e2e6d06",
   "metadata": {},
   "outputs": [],
   "source": [
    "# Holy moly everything below created by GPT\n",
    "\n",
    "import cv2\n",
    "import tkinter as tk\n",
    "import random\n",
    "from PIL import Image, ImageTk\n",
    "import math\n",
    "\n",
    "class App:\n",
    "    def __init__(self, window):\n",
    "        self.window = window\n",
    "        self.window.title(\"Camera + Game\")\n",
    "\n",
    "        # --- Layout Frames ---\n",
    "        self.left_frame = tk.Frame(window)\n",
    "        self.left_frame.pack(side=tk.LEFT)\n",
    "\n",
    "        # self.right_frame = tk.Frame(window)\n",
    "        # self.right_frame.pack(side=tk.RIGHT)\n",
    "\n",
    "        # --- Camera Setup ---\n",
    "        self.cap = cv2.VideoCapture(0)\n",
    "        # self.out = cv2.VideoWriter('output.avi', cv2.VideoWriter_fourcc(*'XVID'), 20.0, (640, 480))\n",
    "\n",
    "        self.video_label = tk.Label(self.left_frame)\n",
    "        self.video_label.pack()\n",
    "        self.update_camera()\n",
    "\n",
    "        # --- Quit Button ---\n",
    "        self.quit_button = tk.Button(self.left_frame, text=\"Quit\", command=self.quit)\n",
    "        self.quit_button.pack(pady=10)\n",
    "\n",
    "    def update_camera(self):\n",
    "        ret, frame = self.cap.read()\n",
    "        if ret:\n",
    "            # self.out.write(frame)\n",
    "            frame = cv2.cvtColor(frame, cv2.COLOR_BGR2RGB)\n",
    "            img = Image.fromarray(frame)\n",
    "\n",
    "            results = model(img)\n",
    "            img_results = plot_bboxes(results=results)\n",
    "            img_results_PIL = to_pil_image(img_results)\n",
    "\n",
    "            imgtk = ImageTk.PhotoImage(image=img_results_PIL)\n",
    "            # imgtk = ImageTk.PhotoImage(image=img)\n",
    "            self.video_label.imgtk = imgtk\n",
    "            self.video_label.configure(image=imgtk)\n",
    "        self.window.after(10, self.update_camera)\n",
    "\n",
    "    def quit(self):\n",
    "        self.cap.release()\n",
    "        # self.out.release()\n",
    "        self.window.destroy()"
   ]
  },
  {
   "cell_type": "code",
   "execution_count": null,
   "id": "d811e934",
   "metadata": {},
   "outputs": [],
   "source": [
    "root = tk.Tk()\n",
    "app = App(root)\n",
    "root.mainloop()"
   ]
  }
 ],
 "metadata": {
  "kernelspec": {
   "display_name": "Python 3",
   "language": "python",
   "name": "python3"
  },
  "language_info": {
   "codemirror_mode": {
    "name": "ipython",
    "version": 3
   },
   "file_extension": ".py",
   "mimetype": "text/x-python",
   "name": "python",
   "nbconvert_exporter": "python",
   "pygments_lexer": "ipython3",
   "version": "3.12.7"
  }
 },
 "nbformat": 4,
 "nbformat_minor": 5
}
